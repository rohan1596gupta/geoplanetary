{
 "cells": [
  {
   "cell_type": "code",
   "execution_count": 2,
   "metadata": {},
   "outputs": [],
   "source": [
    "import os\n",
    "import gdal\n",
    "import scipy.ndimage\n",
    "import shapefile\n",
    "from pyproj import Proj, transform"
   ]
  },
  {
   "cell_type": "markdown",
   "metadata": {},
   "source": [
    "Define a function to create a projection (.prj) file."
   ]
  },
  {
   "cell_type": "code",
   "execution_count": 3,
   "metadata": {},
   "outputs": [],
   "source": [
    "def getWKT_PRJ (epsg_code):\n",
    "    import urllib\n",
    "    wkt = urllib.urlopen(\"http://spatialreference.org/ref/epsg/{0}/prettywkt/\".format(epsg_code))\n",
    "    remove_spaces = wkt.read().replace(\" \",\"\")\n",
    "    output = remove_spaces.replace(\"\\n\", \"\")\n",
    "    return output"
   ]
  },
  {
   "cell_type": "markdown",
   "metadata": {},
   "source": [
    "Defining path name to the shape file"
   ]
  },
  {
   "cell_type": "code",
   "execution_count": 4,
   "metadata": {},
   "outputs": [],
   "source": [
    "shp_folder = \"/Users/rohankumar/espc2017_op_cafe/shp/\""
   ]
  },
  {
   "cell_type": "markdown",
   "metadata": {},
   "source": [
    "Using PyShp create a Reader object to access the data from the polygonized_Stuff Shapefile."
   ]
  },
  {
   "cell_type": "code",
   "execution_count": 5,
   "metadata": {},
   "outputs": [],
   "source": [
    "shpf = shapefile.Reader(shp_folder + \"polygonized_Stuff.shp\")"
   ]
  },
  {
   "cell_type": "markdown",
   "metadata": {},
   "source": [
    "Create a Writer object to write data to as a new Shapefile."
   ]
  },
  {
   "cell_type": "code",
   "execution_count": 6,
   "metadata": {},
   "outputs": [],
   "source": [
    "wgs_shp = shapefile.Writer(\"/Users/rohankumar/espc2017_op_cafe/shapefile.POLYGON\")"
   ]
  },
  {
   "cell_type": "markdown",
   "metadata": {},
   "source": [
    "Set variables for access to the field information of both the original and new Shapefile."
   ]
  },
  {
   "cell_type": "code",
   "execution_count": 7,
   "metadata": {},
   "outputs": [],
   "source": [
    "fields = shpf.fields\n",
    "wgs_fields = wgs_shp.fields"
   ]
  },
  {
   "cell_type": "markdown",
   "metadata": {},
   "source": [
    "We will grab all the field info from the original and copy it into the new. The ‘Deletion Flag’ as set in the Shapefile standard will be passed over (the tuple in the if statement), and we want data from the lists that follow the tuple that define the field name, data type and field length. Basically we are simply replicating the field structure from the original into the new."
   ]
  },
  {
   "cell_type": "code",
   "execution_count": 8,
   "metadata": {},
   "outputs": [],
   "source": [
    "for name in fields:\n",
    "    if type(name) == \"tuple\":\n",
    "        continue\n",
    "    else:\n",
    "        args = name\n",
    "        wgs_shp.field(*args)"
   ]
  },
  {
   "cell_type": "markdown",
   "metadata": {},
   "source": [
    "Now we want to populate the fields with attribute information. Create a variable to access the records of the original file."
   ]
  },
  {
   "cell_type": "code",
   "execution_count": 9,
   "metadata": {},
   "outputs": [],
   "source": [
    "records = shpf.records()"
   ]
  },
  {
   "cell_type": "markdown",
   "metadata": {},
   "source": [
    "Copy the records from the original into the new."
   ]
  },
  {
   "cell_type": "code",
   "execution_count": 10,
   "metadata": {},
   "outputs": [],
   "source": [
    "for row in records:\n",
    "    args = row\n",
    "    wgs_shp.record(*args)"
   ]
  },
  {
   "cell_type": "markdown",
   "metadata": {},
   "source": [
    "In the above snippet the args variable holds each record as a list and then unpacks that list as arguments in wgs_shp.record(attr_1, attr_2, attr_3….), which creates a record in the dbf file.\n",
    "\n",
    "We now have all the attribute data copied over. Let’s begin the quest to convert the data from ITM to WGS84! Define the input projection (the projection of the original file), and an output projection using PyProj.."
   ]
  },
  {
   "cell_type": "code",
   "execution_count": 14,
   "metadata": {},
   "outputs": [],
   "source": [
    "input_projection = Proj(init=\"epsg:4326\")\n",
    "output_projection = Proj(init=\"epsg:3395\")"
   ]
  },
  {
   "cell_type": "markdown",
   "metadata": {},
   "source": [
    "We need to access the geometry of the features in the original file so give yourself access to it."
   ]
  },
  {
   "cell_type": "code",
   "execution_count": 15,
   "metadata": {},
   "outputs": [],
   "source": [
    "geom = shpf.shapes()"
   ]
  },
  {
   "cell_type": "markdown",
   "metadata": {},
   "source": [
    "Now we loop through each feature in the original dataset, access every point that makes up the geometry, convert the coordinates for each point and re-assemble transformed geometry in the new Shapefile. The if statement will handle geometry with only one part making up the feature."
   ]
  },
  {
   "cell_type": "code",
   "execution_count": 16,
   "metadata": {},
   "outputs": [
    {
     "ename": "RuntimeError",
     "evalue": "b'latitude or longitude exceeded limits'",
     "output_type": "error",
     "traceback": [
      "\u001b[0;31m---------------------------------------------------------------------------\u001b[0m",
      "\u001b[0;31mRuntimeError\u001b[0m                              Traceback (most recent call last)",
      "\u001b[0;32m<ipython-input-16-2e4f946d3068>\u001b[0m in \u001b[0;36m<module>\u001b[0;34m\u001b[0m\n\u001b[1;32m      9\u001b[0m                \u001b[0mx\u001b[0m\u001b[0;34m,\u001b[0m \u001b[0my\u001b[0m \u001b[0;34m=\u001b[0m \u001b[0mcoords\u001b[0m\u001b[0;34m[\u001b[0m\u001b[0;36m0\u001b[0m\u001b[0;34m]\u001b[0m\u001b[0;34m,\u001b[0m \u001b[0mcoords\u001b[0m\u001b[0;34m[\u001b[0m\u001b[0;36m1\u001b[0m\u001b[0;34m]\u001b[0m\u001b[0;34m\u001b[0m\u001b[0m\n\u001b[1;32m     10\u001b[0m                \u001b[0;31m# tranform the coord\u001b[0m\u001b[0;34m\u001b[0m\u001b[0;34m\u001b[0m\u001b[0m\n\u001b[0;32m---> 11\u001b[0;31m                \u001b[0mnew_x\u001b[0m\u001b[0;34m,\u001b[0m \u001b[0mnew_y\u001b[0m \u001b[0;34m=\u001b[0m \u001b[0mtransform\u001b[0m\u001b[0;34m(\u001b[0m\u001b[0minput_projection\u001b[0m\u001b[0;34m,\u001b[0m \u001b[0moutput_projection\u001b[0m\u001b[0;34m,\u001b[0m \u001b[0mx\u001b[0m\u001b[0;34m,\u001b[0m \u001b[0my\u001b[0m\u001b[0;34m)\u001b[0m\u001b[0;34m\u001b[0m\u001b[0m\n\u001b[0m\u001b[1;32m     12\u001b[0m                \u001b[0;31m# put the coord into a list structure\u001b[0m\u001b[0;34m\u001b[0m\u001b[0;34m\u001b[0m\u001b[0m\n\u001b[1;32m     13\u001b[0m                \u001b[0mpoly_coord\u001b[0m \u001b[0;34m=\u001b[0m \u001b[0;34m[\u001b[0m\u001b[0mfloat\u001b[0m\u001b[0;34m(\u001b[0m\u001b[0mnew_x\u001b[0m\u001b[0;34m)\u001b[0m\u001b[0;34m,\u001b[0m \u001b[0mfloat\u001b[0m\u001b[0;34m(\u001b[0m\u001b[0mnew_y\u001b[0m\u001b[0;34m)\u001b[0m\u001b[0;34m]\u001b[0m\u001b[0;34m\u001b[0m\u001b[0m\n",
      "\u001b[0;32m/Library/Frameworks/Python.framework/Versions/3.6/lib/python3.6/site-packages/pyproj/__init__.py\u001b[0m in \u001b[0;36mtransform\u001b[0;34m(p1, p2, x, y, z, radians)\u001b[0m\n\u001b[1;32m    525\u001b[0m         \u001b[0minz\u001b[0m \u001b[0;34m=\u001b[0m \u001b[0;32mNone\u001b[0m\u001b[0;34m\u001b[0m\u001b[0m\n\u001b[1;32m    526\u001b[0m     \u001b[0;31m# call pj_transform.  inx,iny,inz buffers modified in place.\u001b[0m\u001b[0;34m\u001b[0m\u001b[0;34m\u001b[0m\u001b[0m\n\u001b[0;32m--> 527\u001b[0;31m     \u001b[0m_proj\u001b[0m\u001b[0;34m.\u001b[0m\u001b[0m_transform\u001b[0m\u001b[0;34m(\u001b[0m\u001b[0mp1\u001b[0m\u001b[0;34m,\u001b[0m\u001b[0mp2\u001b[0m\u001b[0;34m,\u001b[0m\u001b[0minx\u001b[0m\u001b[0;34m,\u001b[0m\u001b[0miny\u001b[0m\u001b[0;34m,\u001b[0m\u001b[0minz\u001b[0m\u001b[0;34m,\u001b[0m\u001b[0mradians\u001b[0m\u001b[0;34m)\u001b[0m\u001b[0;34m\u001b[0m\u001b[0m\n\u001b[0m\u001b[1;32m    528\u001b[0m     \u001b[0;31m# if inputs were lists, tuples or floats, convert back.\u001b[0m\u001b[0;34m\u001b[0m\u001b[0;34m\u001b[0m\u001b[0m\n\u001b[1;32m    529\u001b[0m     \u001b[0moutx\u001b[0m \u001b[0;34m=\u001b[0m \u001b[0m_convertback\u001b[0m\u001b[0;34m(\u001b[0m\u001b[0mxisfloat\u001b[0m\u001b[0;34m,\u001b[0m\u001b[0mxislist\u001b[0m\u001b[0;34m,\u001b[0m\u001b[0mxistuple\u001b[0m\u001b[0;34m,\u001b[0m\u001b[0minx\u001b[0m\u001b[0;34m)\u001b[0m\u001b[0;34m\u001b[0m\u001b[0m\n",
      "\u001b[0;32m_proj.pyx\u001b[0m in \u001b[0;36m_proj._transform\u001b[0;34m()\u001b[0m\n",
      "\u001b[0;31mRuntimeError\u001b[0m: b'latitude or longitude exceeded limits'"
     ]
    }
   ],
   "source": [
    "for feature in geom:\n",
    "    # if there is only one part\n",
    "    if len(feature.parts) == 1:\n",
    "        # create empty list to store all the coordinates\n",
    "        poly_list = []\n",
    "\n",
    "        # get each coord that makes up the polygon\n",
    "        for coords in feature.points:\n",
    "               x, y = coords[0], coords[1]\n",
    "               # tranform the coord\n",
    "               new_x, new_y = transform(input_projection, output_projection, x, y)\n",
    "               # put the coord into a list structure\n",
    "               poly_coord = [float(new_x), float(new_y)]\n",
    "               # append the coords to the polygon list\n",
    "               poly_list.append(poly_coord)\n",
    "           # add the geometry to the shapefile.\n",
    "        wgs_shp.parts=poly_list\n",
    "    else:\n",
    "        # append the total amount of points to the end of the parts list\n",
    "        feature.parts.append(len(feature.points))\n",
    "        # enpty list to store all the parts that make up the complete feature\n",
    "        poly_list = []\n",
    "        # keep track of the part being added\n",
    "        parts_counter = 0\n",
    "\n",
    "        # while the parts_counter is less than the amount of parts\n",
    "        while parts_counter < len(feature.parts) - 1:\n",
    "            # keep track of the amount of points added to the feature\n",
    "            coord_count = feature.parts[parts_counter]\n",
    "            # number of points in each part\n",
    "            no_of_points = abs(feature.parts[parts_counter] - feature.parts[parts_counter + 1])\n",
    "            # create list to hold individual parts - these get added to poly_list[]\n",
    "            part_list = []\n",
    "            # cut off point for each part\n",
    "            end_point = coord_count + no_of_points\n",
    "\n",
    "            # loop through each part\n",
    "            while coord_count < end_point:\n",
    "                for coords in feature.points[coord_count:end_point]:\n",
    "                    x, y = coords[0], coords[1]\n",
    "                    # tranform the coord\n",
    "                    new_x, new_y = transform(input_projection, output_projection, x, y)\n",
    "                    # put the coord into a list structure\n",
    "                    poly_coord = [float(new_x), float(new_y)]\n",
    "                    # append the coords to the part list\n",
    "                    part_list.append(poly_coord)\n",
    "                    coord_count = coord_count + 1\n",
    "        # append the part to the poly_list\n",
    "        poly_list.append(part_list)\n",
    "        parts_counter = parts_counter + 1\n",
    "    # add the geometry to to new file\n",
    "wgs_shp.parts=poly_list"
   ]
  },
  {
   "cell_type": "markdown",
   "metadata": {},
   "source": [
    "Save the shapefile"
   ]
  },
  {
   "cell_type": "code",
   "execution_count": null,
   "metadata": {},
   "outputs": [],
   "source": [
    "wgs_shp.save(shp_folder + \"Polygonized_Stuff_wgs.shp\")"
   ]
  },
  {
   "cell_type": "code",
   "execution_count": null,
   "metadata": {},
   "outputs": [],
   "source": [
    "prj = open(shp_folder + \"Polygonized_Stuff_wgs.prj\", \"w\")\n",
    "epsg = getWKT_PRJ(\"3395\")\n",
    "prj.write(epsg)\n",
    "prj.close()"
   ]
  },
  {
   "cell_type": "code",
   "execution_count": null,
   "metadata": {},
   "outputs": [],
   "source": [
    "prj"
   ]
  },
  {
   "cell_type": "code",
   "execution_count": null,
   "metadata": {},
   "outputs": [],
   "source": []
  }
 ],
 "metadata": {
  "kernelspec": {
   "display_name": "Python 3",
   "language": "python",
   "name": "python3"
  },
  "language_info": {
   "codemirror_mode": {
    "name": "ipython",
    "version": 3
   },
   "file_extension": ".py",
   "mimetype": "text/x-python",
   "name": "python",
   "nbconvert_exporter": "python",
   "pygments_lexer": "ipython3",
   "version": "3.6.4"
  }
 },
 "nbformat": 4,
 "nbformat_minor": 2
}
